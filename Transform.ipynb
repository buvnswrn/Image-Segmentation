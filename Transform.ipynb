{
 "cells": [
  {
   "cell_type": "code",
   "execution_count": 4,
   "metadata": {},
   "outputs": [],
   "source": [
    "import os\n",
    "from PIL import Image\n",
    "\n",
    "def removesuffix(content, suffix):\n",
    "    if content.endswith(suffix):\n",
    "        content = content[:-len(suffix)]\n",
    "    return content\n",
    "\n",
    "def findFiles(rootDir, suffix):\n",
    "    files = []\n",
    "    for r, d, f in os.walk(rootDir):\n",
    "        for file in f:\n",
    "            if suffix in file:\n",
    "                files.append(removesuffix(str(file), suffix))\n",
    "    return files\n",
    "\n",
    "def substringBefore(string, char):\n",
    "    return string[:string.index(char)]\n",
    "\n",
    "inputRoot = \"/datasets/leftImg8bit/train/\"\n",
    "targetRoot = \"/datasets/gtFine/train/\"\n",
    "inputSuffix = '_leftImg8bit.png'\n",
    "targetSuffix = '_gtFine_labelIds.png'\n",
    "\n",
    "reducedRoot = \"/datasets/cityscapes/small/train/\"\n",
    "\n",
    "\n",
    "#os.makedirs(reducedRoot + \"input/\" )\n",
    "#os.makedirs(reducedRoot + \"target/\" )\n",
    "\n",
    "files = findFiles(inputRoot, inputSuffix)\n",
    "#targetImages = findFiles(inputRoot, targetSuffix)\n",
    "\n",
    "i = 0;\n",
    "\n",
    "targetSize = (256, 128)\n",
    "\n",
    "for file in files:\n",
    "    \n",
    "    \n",
    "    cityName = substringBefore(file, \"_\")\n",
    "    \n",
    "    input = Image.open(inputRoot + cityName + \"/\" + file + inputSuffix)\n",
    "    target = Image.open(targetRoot + cityName + \"/\" + file + targetSuffix)\n",
    "\n",
    "    input = input.resize(targetSize)\n",
    "    target = target.resize(targetSize, Image.NEAREST)\n",
    "\n",
    "    input.save(reducedRoot + \"input/\" + str(i).zfill(4) +  \".png\")\n",
    "    target.save(reducedRoot + \"target/\" + str(i).zfill(4) +  \".png\")\n",
    "    \n",
    "    i += 1\n",
    "\n"
   ]
  },
  {
   "cell_type": "code",
   "execution_count": 90,
   "metadata": {},
   "outputs": [],
   "source": [
    "import torch\n",
    "a = torch.rand(2,21, 2,2)\n"
   ]
  },
  {
   "cell_type": "code",
   "execution_count": 86,
   "metadata": {},
   "outputs": [],
   "source": [
    "colors = torch.tensor(\n",
    "            [\n",
    "                [0, 0, 0],\n",
    "                [128, 0, 0],\n",
    "                [0, 128, 0],\n",
    "                [128, 128, 0],\n",
    "                [0, 0, 128],\n",
    "                [128, 0, 128],\n",
    "                [0, 128, 128],\n",
    "                [128, 128, 128],\n",
    "                [64, 0, 0],\n",
    "                [192, 0, 0],\n",
    "                [64, 128, 0],\n",
    "                [192, 128, 0],\n",
    "                [64, 0, 128],\n",
    "                [192, 0, 128],\n",
    "                [64, 128, 128],\n",
    "                [192, 128, 128],\n",
    "                [0, 64, 0],\n",
    "                [128, 64, 0],\n",
    "                [0, 192, 0],\n",
    "                [128, 192, 0],\n",
    "                [0, 64, 128],\n",
    "            ]\n",
    "        )\n"
   ]
  },
  {
   "cell_type": "code",
   "execution_count": 95,
   "metadata": {},
   "outputs": [
    {
     "data": {
      "text/plain": [
       "tensor([[[255., 255.],\n",
       "         [  2.,   3.]]])"
      ]
     },
     "execution_count": 95,
     "metadata": {},
     "output_type": "execute_result"
    }
   ],
   "source": [
    "r = colors[:, 0]\n",
    "g = colors[:, 1]\n",
    "b = colors[:, 2]\n",
    "\n",
    "values, indices = torch.max(a, 1)\n",
    "\n",
    "indices = torch.tensor([[[0,0.1],[2,3]]])\n",
    "\n",
    "indices[indices < 0.3] = 255\n",
    "indices"
   ]
  },
  {
   "cell_type": "code",
   "execution_count": 100,
   "metadata": {},
   "outputs": [
    {
     "name": "stdout",
     "output_type": "stream",
     "text": [
      "\r\n",
      "*** Please tell me who you are.\r\n",
      "\r\n",
      "Run\r\n",
      "\r\n",
      "  git config --global user.email \"you@example.com\"\r\n",
      "  git config --global user.name \"Your Name\"\r\n",
      "\r\n",
      "to set your account's default identity.\r\n",
      "Omit --global to set the identity only in this repository.\r\n",
      "\r\n",
      "fatal: unable to auto-detect email address (got 'christopher.h.jung@097efb655f8c.(none)')\r\n"
     ]
    }
   ],
   "source": [
    "!git commit -m \"initial commit\"\n",
    "\n",
    "\n"
   ]
  },
  {
   "cell_type": "code",
   "execution_count": 17,
   "metadata": {},
   "outputs": [
    {
     "data": {
      "text/plain": [
       "tensor([[0, 2, 0],\n",
       "        [2, 1, 0],\n",
       "        [0, 1, 1],\n",
       "        [2, 0, 0],\n",
       "        [0, 1, 0],\n",
       "        [1, 2, 1],\n",
       "        [1, 2, 2],\n",
       "        [2, 0, 2],\n",
       "        [2, 2, 1],\n",
       "        [0, 2, 0],\n",
       "        [1, 2, 2],\n",
       "        [2, 2, 1],\n",
       "        [2, 0, 0],\n",
       "        [2, 1, 1],\n",
       "        [2, 2, 1],\n",
       "        [0, 2, 2],\n",
       "        [2, 0, 0],\n",
       "        [2, 0, 1],\n",
       "        [2, 0, 2],\n",
       "        [2, 1, 2],\n",
       "        [2, 0, 2]])"
      ]
     },
     "execution_count": 17,
     "metadata": {},
     "output_type": "execute_result"
    }
   ],
   "source": [
    "indices"
   ]
  },
  {
   "cell_type": "code",
   "execution_count": null,
   "metadata": {},
   "outputs": [],
   "source": []
  }
 ],
 "metadata": {
  "kernelspec": {
   "display_name": "Python 3",
   "language": "python",
   "name": "python3"
  },
  "language_info": {
   "codemirror_mode": {
    "name": "ipython",
    "version": 3
   },
   "file_extension": ".py",
   "mimetype": "text/x-python",
   "name": "python",
   "nbconvert_exporter": "python",
   "pygments_lexer": "ipython3",
   "version": "3.8.5"
  }
 },
 "nbformat": 4,
 "nbformat_minor": 4
}
